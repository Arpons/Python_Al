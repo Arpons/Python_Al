{
 "cells": [
  {
   "cell_type": "markdown",
   "metadata": {},
   "source": [
    "# 9498번"
   ]
  },
  {
   "cell_type": "code",
   "execution_count": 3,
   "metadata": {},
   "outputs": [
    {
     "name": "stdout",
     "output_type": "stream",
     "text": [
      "98\n",
      "A\n"
     ]
    }
   ],
   "source": [
    "score = int(input())\n",
    "\n",
    "if  90 <= score <= 100:\n",
    "    print(\"A\")\n",
    "elif 80 <= score:\n",
    "    print(\"B\")\n",
    "elif 70 <= score:\n",
    "    print(\"C\")\n",
    "elif 60 <= score:\n",
    "    print(\"D\")\n",
    "else:\n",
    "    print(\"F\")"
   ]
  },
  {
   "cell_type": "markdown",
   "metadata": {},
   "source": [
    "# 2753번 "
   ]
  },
  {
   "cell_type": "code",
   "execution_count": 6,
   "metadata": {},
   "outputs": [
    {
     "name": "stdout",
     "output_type": "stream",
     "text": [
      "1900\n",
      "0\n"
     ]
    }
   ],
   "source": [
    "year = int(input())\n",
    "\n",
    "if  year % 4 == 0 and year % 100 != 0 or year % 400 == 0:\n",
    "    print('1')\n",
    "else:\n",
    "    print('0')"
   ]
  },
  {
   "cell_type": "markdown",
   "metadata": {},
   "source": [
    "# 2884번"
   ]
  },
  {
   "cell_type": "code",
   "execution_count": 15,
   "metadata": {},
   "outputs": [
    {
     "name": "stdout",
     "output_type": "stream",
     "text": [
      "10 10\n",
      "9 25\n"
     ]
    }
   ],
   "source": [
    "time = input().split(\" \")\n",
    "H = int(time[0])\n",
    "M = int(time[1])\n",
    "\n",
    "M -= 45\n",
    "if M < 0:\n",
    "    H -= 1\n",
    "    M = M + 60\n",
    "    if H < 0:\n",
    "        H = 23\n",
    "print(str(H) + \" \" + str(M))"
   ]
  },
  {
   "cell_type": "markdown",
   "metadata": {},
   "source": [
    "# 10817번"
   ]
  },
  {
   "cell_type": "code",
   "execution_count": 16,
   "metadata": {},
   "outputs": [
    {
     "name": "stdout",
     "output_type": "stream",
     "text": [
      "1 2 3\n",
      "2\n"
     ]
    }
   ],
   "source": [
    "input_date = list(map(int,input().split(\" \")))\n",
    "input_date.sort()\n",
    "\n",
    "print(input_date[1])\n",
    "        "
   ]
  }
 ],
 "metadata": {
  "kernelspec": {
   "display_name": "Python 3",
   "language": "python",
   "name": "python3"
  },
  "language_info": {
   "codemirror_mode": {
    "name": "ipython",
    "version": 3
   },
   "file_extension": ".py",
   "mimetype": "text/x-python",
   "name": "python",
   "nbconvert_exporter": "python",
   "pygments_lexer": "ipython3",
   "version": "3.7.4"
  }
 },
 "nbformat": 4,
 "nbformat_minor": 2
}
